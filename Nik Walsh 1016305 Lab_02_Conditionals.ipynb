{
  "nbformat": 4,
  "nbformat_minor": 0,
  "metadata": {
    "colab": {
      "provenance": [],
      "toc_visible": true,
      "include_colab_link": true
    },
    "kernelspec": {
      "name": "python3",
      "display_name": "Python 3"
    },
    "language_info": {
      "name": "python"
    }
  },
  "cells": [
    {
      "cell_type": "markdown",
      "metadata": {
        "id": "view-in-github",
        "colab_type": "text"
      },
      "source": [
        "<a href=\"https://colab.research.google.com/github/1016305/CST182Projects/blob/main/Nik%20Walsh%201016305%20Lab_02_Conditionals.ipynb\" target=\"_parent\"><img src=\"https://colab.research.google.com/assets/colab-badge.svg\" alt=\"Open In Colab\"/></a>"
      ]
    },
    {
      "cell_type": "markdown",
      "source": [
        "# **LAB #02** - CONDITIONALS\n",
        "<br/>\n"
      ],
      "metadata": {
        "id": "qdM8hjkwAnQ5"
      }
    },
    {
      "cell_type": "markdown",
      "source": [
        "><table>\n",
        "##**Lab Overview**\n",
        "\n",
        "These lab questions will help develop your understanding of conditional statements and some of the applications where conditionals are used.  \n",
        "></table>\n",
        "\n",
        "<br/><br/>\n",
        "\n"
      ],
      "metadata": {
        "id": "ax351qT1A2wO"
      }
    },
    {
      "cell_type": "markdown",
      "source": [
        "# **Question #1** - Sort three numbers\n",
        "---\n",
        "<br/>\n",
        "\n",
        "Write a program that asks for three numbers from the user, and prints out the three numbers in ascending order.  <br/><br/>\n",
        "\n",
        "\n",
        "**<u>Example Run:</u>**<br/>\n",
        "Number #1? **9**<br/>\n",
        "Number #1? **3**<br/>\n",
        "Number #1? **5**<br/>\n",
        "Result = 3 5 9<br/>\n",
        "<br/>\n",
        ">**Note:** *You cannot use the `max()` or `min()` functions*\n"
      ],
      "metadata": {
        "id": "f1kwJQuoLhE4"
      }
    },
    {
      "cell_type": "markdown",
      "source": [
        "### Your Answer:"
      ],
      "metadata": {
        "id": "jxaY-33JMb77"
      }
    },
    {
      "cell_type": "code",
      "source": [
        "# Student Name: Nik Walsh\n",
        "# Student Number: 1016305\n",
        "\n",
        "# Add answer below this line\n",
        "#inputs\n",
        "a = int(input(\"First number: \"))\n",
        "b = int(input(\"Second number: \"))\n",
        "c = int(input(\"Third number: \"))\n",
        "#storing numbers\n",
        "i = 0\n",
        "ii = 0\n",
        "iii = 0\n",
        "#sort numbers\n",
        "if a < b and a < c:\n",
        "  i = a\n",
        "  if b < c:\n",
        "    ii = b\n",
        "    iii = c\n",
        "  else:\n",
        "    ii = c\n",
        "    iii = b\n",
        "elif b < a and b < c:\n",
        "  i = b\n",
        "  if a < c:\n",
        "    ii = a\n",
        "    iii = c\n",
        "  else:\n",
        "    ii = c\n",
        "    iii = a\n",
        "elif c < a and a < b:\n",
        "  i = c\n",
        "  if a < b:\n",
        "    ii = a\n",
        "    iii = b\n",
        "  else:\n",
        "    ii = b\n",
        "    iii = a\n",
        "#print result\n",
        "print(\"Result:\", i,ii,iii)"
      ],
      "metadata": {
        "id": "Wc7e2wC5McY0"
      },
      "execution_count": null,
      "outputs": []
    },
    {
      "cell_type": "markdown",
      "source": [
        "<Br/><br/>\n"
      ],
      "metadata": {
        "id": "McmLtW4vMjKn"
      }
    },
    {
      "cell_type": "markdown",
      "source": [
        "# **Question #2** - BMI Calculator + Range\n",
        "---\n",
        "\n",
        "<br/>\n",
        "\n",
        "We will take the BMI question from Tutorial #1 and extend its functionality.<br/><br/>\n",
        "\n",
        "> <table><tr><td>\n",
        "\n",
        "<b>Old Tutorial 1 Question</b><Br/><br/>\n",
        "\n",
        "Create a program that calculates a user's BMI. To do this, you will need to take in the users:\n",
        "\n",
        "1.   name\n",
        "2.   height (in meters; e.g., 1.8)\n",
        "3.   weight (in kg; e.g., 60)\n",
        "\n",
        "and then insert the values into the equation: $BMI = \\frac{weight}{height^2}$\n",
        "<br/>\n",
        "<br/>\n",
        "(Note: You can square the height by either multiplying by itself, or using `height**2`)\n",
        "<br/><br/>\n",
        "\n",
        "The output is expected to be similar to:\n",
        "\n",
        "`Hi Luke, your BMI is 23.0`\n",
        "\n",
        "></td></tr></table>\n",
        "\n",
        "<br/><br/>\n",
        "\n",
        "Your job is to update this program so it also shows the range that the calculated BMI falls within. <br/><br/>\n",
        "\n",
        "\n",
        "**<u>Example Run:</u>**<br/>\n",
        "Weight? **180**<br/>\n",
        "Height? **80**<br/>\n",
        "BMI = 24.7<br/>\n",
        "The given BMI is classified as: Healthy<br/>\n",
        "\n",
        ">**Note:** *The ranges haven't been given to you - you need to do a bit of research and add a reference to the site you used in the program comments.*\n",
        "\n",
        "\n",
        "<br/>\n"
      ],
      "metadata": {
        "id": "9ML3CMJVBxuF"
      }
    },
    {
      "cell_type": "markdown",
      "source": [
        "### Your Answer:"
      ],
      "metadata": {
        "id": "gPCRbhBxGMN0"
      }
    },
    {
      "cell_type": "code",
      "execution_count": 3,
      "metadata": {
        "id": "LuZZ6MqZAkbS",
        "colab": {
          "base_uri": "https://localhost:8080/"
        },
        "outputId": "1d5fad95-a24a-4797-8fdf-bf9300e7bd4b"
      },
      "outputs": [
        {
          "output_type": "stream",
          "name": "stdout",
          "text": [
            "Name: Cameron\n",
            "Height: 1.82\n",
            "Weight: 157\n",
            "Hello Cameron . Your BMI is 47.397657287767174 ,classified as: Obese class III\n"
          ]
        }
      ],
      "source": [
        "# Student Name: Nik Walsh\n",
        "# Student Number: 1016305\n",
        "# BMI Ranges Reference URL: https://www.health.gov.au/topics/overweight-and-obesity/bmi-and-waist\n",
        "\n",
        "# Add answer below this line\n",
        "#inputs\n",
        "name = str(input(\"Name: \"))\n",
        "height = float(input(\"Height in meters: \"))\n",
        "weight = float(input(\"Weight in kg: \"))\n",
        "cls = str\n",
        "#calculate\n",
        "bmi = weight /(height**2)\n",
        "#check bmi range\n",
        "if bmi <= 18.5:\n",
        "  cls = \"Underweight\"\n",
        "elif bmi <= 24.9:\n",
        "  cls = \"Healthy Weight\"\n",
        "elif bmi <= 29.9:\n",
        "  cls = \"Overweight but not obese\"\n",
        "elif bmi <= 34.9:\n",
        "  cls = \"Obese class I\"\n",
        "elif bmi <= 39.9:\n",
        "  cls = \"Obese class II\"\n",
        "else:\n",
        "  cls = \"Obese class III\"\n",
        "#print result\n",
        "print(\"Hello\",name,\". Your BMI is\",bmi,\", classified as:\",cls)"
      ]
    },
    {
      "cell_type": "markdown",
      "source": [
        "<br/><br/>\n"
      ],
      "metadata": {
        "id": "gPpEwbJeD_qb"
      }
    },
    {
      "cell_type": "markdown",
      "source": [
        "# **Question #3** - Movie tickets\n",
        "---\n",
        "\n",
        "Create a program that calculates the cost of a ticket at the movies. The program asks the person's age. If they are under 18, they get a child's ticket at \\$10.00, and adults pay \\$20.00. However, if a person is over 65, they are asked if they have a concession card, and if so, then receive a \\$15.00 ticket. <br/><br/>\n",
        "\n",
        "**<u>Example Run #1:</u>**<br/>\n",
        "Age? **15**<br/>\n",
        "Ticket = $10.00<br/><br/>\n",
        "\n",
        "**<u>Example Run #2:</u>**<br/>\n",
        "Age? **30**<br/>\n",
        "Ticket = $20.00<br/><br/>\n",
        "\n",
        "**<u>Example Run #3:</u>**<br/>\n",
        "Age? **70**<br/>\n",
        "Concession Card? **Yes**<br/>\n",
        "Ticket = $15.00<br/><br/>\n",
        "\n",
        "**<u>Example Run #4:</u>**<br/>\n",
        "Age? **70**<br/>\n",
        "Concession Card? **No**<br/>\n",
        "Ticket = $20.00<br/><br/>"
      ],
      "metadata": {
        "id": "gJ5eqV6jEA9g"
      }
    },
    {
      "cell_type": "markdown",
      "source": [
        "### Your Answer:"
      ],
      "metadata": {
        "id": "k1Og8sTGGIGP"
      }
    },
    {
      "cell_type": "code",
      "source": [
        "# Student Name: Nik Walsh\n",
        "# Student Number: 1016305\n",
        "\n",
        "# Add answer below this line\n",
        "\n",
        "# The concession card response is CaSe SeNSiTiVE\n",
        "\n",
        "#inputs\n",
        "age = int(input(\"Age: \"))\n",
        "#variables\n",
        "conc = str\n",
        "price = int\n",
        "#calculate price\n",
        "if age < 18:\n",
        "  price = 10.00\n",
        "elif age >= 65:\n",
        "  conc = (input(\"Do you have a concession card? \"))\n",
        "  if conc == \"Yes\":\n",
        "    price = 15.00\n",
        "  else:\n",
        "    price = 20.00\n",
        "else: price = 20.00\n",
        "print(\"Your ticket price is: $\",price)\n",
        "\n",
        "\n"
      ],
      "metadata": {
        "id": "z4XLivudFpaW",
        "colab": {
          "base_uri": "https://localhost:8080/"
        },
        "outputId": "f6ca412d-d844-4d4b-c2d4-36084ac0e3be"
      },
      "execution_count": 8,
      "outputs": [
        {
          "output_type": "stream",
          "name": "stdout",
          "text": [
            "Age: 77\n",
            "Do you have a concession card? Yes\n",
            "Your ticket price is: $ 15.0\n"
          ]
        }
      ]
    },
    {
      "cell_type": "markdown",
      "source": [
        "<br/><br/>"
      ],
      "metadata": {
        "id": "yNYlz8tFGt0U"
      }
    },
    {
      "cell_type": "markdown",
      "source": [
        "# **Submission**\n",
        "---\n",
        "\n",
        "When you believe you have the program correctly working, please run the program and enter valid details for each program so that the output is apparent.\n",
        "<br/><br/>\n",
        "When you are ready to submit please\n",
        "\n",
        "*   go to `File` -> `Print` -> `Print PDF` and then upload and submit in the LMS.\n",
        "*   save your file to GitHub via: `File` -> `Save a copy in GitHub`\n"
      ],
      "metadata": {
        "id": "CxZ8SilaD9Gq"
      }
    }
  ]
}